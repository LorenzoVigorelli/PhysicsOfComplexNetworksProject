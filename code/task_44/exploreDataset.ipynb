{
 "cells": [
  {
   "cell_type": "code",
   "execution_count": 1,
   "id": "56feac7a",
   "metadata": {},
   "outputs": [],
   "source": [
    "import pandas as pd\n",
    "import matplotlib.pyplot as plt"
   ]
  },
  {
   "cell_type": "code",
   "execution_count": 2,
   "id": "ddc83a09",
   "metadata": {},
   "outputs": [],
   "source": [
    "TSV_PATH = \"gadm1_nuts3_counties-gadm1_nuts3_counties - FB Social Connectedness Index - October 2021.tsv\"\n",
    "MAP_PATH = \"gadm1_nuts3_counties_levels.csv\""
   ]
  },
  {
   "cell_type": "code",
   "execution_count": 4,
   "id": "0668a527",
   "metadata": {},
   "outputs": [],
   "source": [
    "pd.set_option(\"display.max_rows\", 20)\n",
    "pd.set_option(\"display.max_columns\", 50)\n",
    "pd.set_option(\"display.width\", 120)"
   ]
  },
  {
   "cell_type": "code",
   "execution_count": 5,
   "id": "0297817d",
   "metadata": {},
   "outputs": [
    {
     "name": "stdout",
     "output_type": "stream",
     "text": [
      "== SCI (TSV) – prime righe ==\n"
     ]
    },
    {
     "data": {
      "text/html": [
       "<div>\n",
       "<style scoped>\n",
       "    .dataframe tbody tr th:only-of-type {\n",
       "        vertical-align: middle;\n",
       "    }\n",
       "\n",
       "    .dataframe tbody tr th {\n",
       "        vertical-align: top;\n",
       "    }\n",
       "\n",
       "    .dataframe thead th {\n",
       "        text-align: right;\n",
       "    }\n",
       "</style>\n",
       "<table border=\"1\" class=\"dataframe\">\n",
       "  <thead>\n",
       "    <tr style=\"text-align: right;\">\n",
       "      <th></th>\n",
       "      <th>user_loc</th>\n",
       "      <th>fr_loc</th>\n",
       "      <th>scaled_sci</th>\n",
       "    </tr>\n",
       "  </thead>\n",
       "  <tbody>\n",
       "    <tr>\n",
       "      <th>0</th>\n",
       "      <td>ABW</td>\n",
       "      <td>ABW</td>\n",
       "      <td>11264841.0</td>\n",
       "    </tr>\n",
       "    <tr>\n",
       "      <th>1</th>\n",
       "      <td>ABW</td>\n",
       "      <td>AGO1</td>\n",
       "      <td>38.0</td>\n",
       "    </tr>\n",
       "    <tr>\n",
       "      <th>2</th>\n",
       "      <td>ABW</td>\n",
       "      <td>AGO10</td>\n",
       "      <td>34.0</td>\n",
       "    </tr>\n",
       "    <tr>\n",
       "      <th>3</th>\n",
       "      <td>ABW</td>\n",
       "      <td>AGO11</td>\n",
       "      <td>32.0</td>\n",
       "    </tr>\n",
       "    <tr>\n",
       "      <th>4</th>\n",
       "      <td>ABW</td>\n",
       "      <td>AGO12</td>\n",
       "      <td>23.0</td>\n",
       "    </tr>\n",
       "  </tbody>\n",
       "</table>\n",
       "</div>"
      ],
      "text/plain": [
       "  user_loc fr_loc  scaled_sci\n",
       "0      ABW    ABW  11264841.0\n",
       "1      ABW   AGO1        38.0\n",
       "2      ABW  AGO10        34.0\n",
       "3      ABW  AGO11        32.0\n",
       "4      ABW  AGO12        23.0"
      ]
     },
     "metadata": {},
     "output_type": "display_data"
    },
    {
     "name": "stdout",
     "output_type": "stream",
     "text": [
      "\n",
      "Schema:\n",
      "user_loc      string[python]\n",
      "fr_loc        string[python]\n",
      "scaled_sci           float64\n",
      "dtype: object\n",
      "\n",
      "Numero righe: 63,824,121\n"
     ]
    }
   ],
   "source": [
    "# lettura TSV SCI (Facebook) ---\n",
    "sci_cols = [\"user_loc\", \"fr_loc\", \"scaled_sci\"]\n",
    "dtype_map = {\"user_loc\": \"string\", \"fr_loc\": \"string\", \"scaled_sci\": \"float64\"}\n",
    "\n",
    "df_sci = pd.read_csv(\n",
    "    TSV_PATH,\n",
    "    sep=\"\\t\",\n",
    "    usecols=sci_cols,\n",
    "    dtype=dtype_map,\n",
    "    low_memory=False\n",
    ")\n",
    "\n",
    "print(\"== SCI (TSV) – prime righe ==\")\n",
    "display(df_sci.head())\n",
    "print(\"\\nSchema:\")\n",
    "print(df_sci.dtypes)\n",
    "print(f\"\\nNumero righe: {len(df_sci):,}\")\n"
   ]
  },
  {
   "cell_type": "code",
   "execution_count": 6,
   "id": "5865ffad",
   "metadata": {},
   "outputs": [
    {
     "name": "stdout",
     "output_type": "stream",
     "text": [
      "== Mapping livelli – prime righe ==\n"
     ]
    },
    {
     "data": {
      "text/html": [
       "<div>\n",
       "<style scoped>\n",
       "    .dataframe tbody tr th:only-of-type {\n",
       "        vertical-align: middle;\n",
       "    }\n",
       "\n",
       "    .dataframe tbody tr th {\n",
       "        vertical-align: top;\n",
       "    }\n",
       "\n",
       "    .dataframe thead th {\n",
       "        text-align: right;\n",
       "    }\n",
       "</style>\n",
       "<table border=\"1\" class=\"dataframe\">\n",
       "  <thead>\n",
       "    <tr style=\"text-align: right;\">\n",
       "      <th></th>\n",
       "      <th>location_code</th>\n",
       "      <th>level_type</th>\n",
       "    </tr>\n",
       "  </thead>\n",
       "  <tbody>\n",
       "    <tr>\n",
       "      <th>0</th>\n",
       "      <td>AND</td>\n",
       "      <td>country</td>\n",
       "    </tr>\n",
       "    <tr>\n",
       "      <th>1</th>\n",
       "      <td>ATG</td>\n",
       "      <td>country</td>\n",
       "    </tr>\n",
       "    <tr>\n",
       "      <th>2</th>\n",
       "      <td>ABW</td>\n",
       "      <td>country</td>\n",
       "    </tr>\n",
       "    <tr>\n",
       "      <th>3</th>\n",
       "      <td>BHS</td>\n",
       "      <td>country</td>\n",
       "    </tr>\n",
       "    <tr>\n",
       "      <th>4</th>\n",
       "      <td>BRB</td>\n",
       "      <td>country</td>\n",
       "    </tr>\n",
       "  </tbody>\n",
       "</table>\n",
       "</div>"
      ],
      "text/plain": [
       "  location_code level_type\n",
       "0           AND    country\n",
       "1           ATG    country\n",
       "2           ABW    country\n",
       "3           BHS    country\n",
       "4           BRB    country"
      ]
     },
     "metadata": {},
     "output_type": "display_data"
    },
    {
     "name": "stdout",
     "output_type": "stream",
     "text": [
      "\n",
      "Schema:\n",
      "location_code    string[python]\n",
      "level_type       string[python]\n",
      "dtype: object\n"
     ]
    }
   ],
   "source": [
    "# lettura file mapping con i nomi reali\n",
    "df_map = pd.read_csv(\n",
    "    MAP_PATH,\n",
    "    usecols=[\"key\", \"level\"],\n",
    "    dtype=\"string\"\n",
    ")\n",
    "\n",
    "df_map = df_map.rename(columns={\"key\": \"location_code\", \"level\": \"level_type\"})\n",
    "\n",
    "print(\"== Mapping livelli – prime righe ==\")\n",
    "display(df_map.head())\n",
    "print(\"\\nSchema:\")\n",
    "print(df_map.dtypes)"
   ]
  },
  {
   "cell_type": "code",
   "execution_count": 7,
   "id": "783e9b34",
   "metadata": {},
   "outputs": [
    {
     "name": "stdout",
     "output_type": "stream",
     "text": [
      "Valori nulli in SCI:\n",
      " user_loc      0\n",
      "fr_loc        0\n",
      "scaled_sci    0\n",
      "dtype: int64\n"
     ]
    }
   ],
   "source": [
    "required_sci_cols = [\"user_loc\", \"fr_loc\", \"scaled_sci\"] \n",
    "missing_sci = set(required_sci_cols) - set(df_sci.columns)\n",
    "assert not missing_sci, f\"Mancano colonne nel TSV SCI: {missing_sci}\"\n",
    "\n",
    "required_map_cols = [\"location_code\", \"level_type\"]\n",
    "missing_map = set(required_map_cols) - set(df_map.columns)\n",
    "assert not missing_map, f\"Mancano colonne nel mapping: {missing_map}\"\n",
    "\n",
    "null_counts = df_sci[required_sci_cols].isna().sum()\n",
    "print(\"Valori nulli in SCI:\\n\", null_counts)\n"
   ]
  },
  {
   "cell_type": "code",
   "execution_count": 8,
   "id": "afbc6065",
   "metadata": {},
   "outputs": [
    {
     "name": "stdout",
     "output_type": "stream",
     "text": [
      "Copertura mapping (location conosciute): 99.9% (7984/7989)\n"
     ]
    }
   ],
   "source": [
    "# copertura del mapping sulle location del TSV ---\n",
    "unique_locs = pd.unique(pd.concat([df_sci[\"user_loc\"], df_sci[\"fr_loc\"]], ignore_index=True))\n",
    "coverage = pd.DataFrame({\"location_code\": unique_locs}).merge(\n",
    "    df_map, on=\"location_code\", how=\"left\"\n",
    ")\n",
    "coverage[\"known\"] = coverage[\"level_type\"].notna()\n",
    "\n",
    "known_ratio = coverage[\"known\"].mean()\n",
    "print(f\"Copertura mapping (location conosciute): {known_ratio:.1%} ({coverage['known'].sum()}/{len(coverage)})\")\n",
    "\n",
    "if known_ratio < 0.95:  \n",
    "    print(\"Esempi *non* mappati:\")\n",
    "    display(coverage.loc[~coverage[\"known\"]].head(10))\n"
   ]
  },
  {
   "cell_type": "code",
   "execution_count": 9,
   "id": "7bb1d61f",
   "metadata": {},
   "outputs": [
    {
     "name": "stdout",
     "output_type": "stream",
     "text": [
      "Righe SCI con entrambi (user_loc, fr_loc) mappati: 63744256/63824121 (99.9%)\n"
     ]
    },
    {
     "data": {
      "text/html": [
       "<div>\n",
       "<style scoped>\n",
       "    .dataframe tbody tr th:only-of-type {\n",
       "        vertical-align: middle;\n",
       "    }\n",
       "\n",
       "    .dataframe tbody tr th {\n",
       "        vertical-align: top;\n",
       "    }\n",
       "\n",
       "    .dataframe thead th {\n",
       "        text-align: right;\n",
       "    }\n",
       "</style>\n",
       "<table border=\"1\" class=\"dataframe\">\n",
       "  <thead>\n",
       "    <tr style=\"text-align: right;\">\n",
       "      <th></th>\n",
       "      <th>user_loc</th>\n",
       "      <th>user_level_type</th>\n",
       "      <th>fr_loc</th>\n",
       "      <th>fr_level_type</th>\n",
       "      <th>scaled_sci</th>\n",
       "    </tr>\n",
       "  </thead>\n",
       "  <tbody>\n",
       "    <tr>\n",
       "      <th>0</th>\n",
       "      <td>ABW</td>\n",
       "      <td>country</td>\n",
       "      <td>ABW</td>\n",
       "      <td>country</td>\n",
       "      <td>11264841.0</td>\n",
       "    </tr>\n",
       "    <tr>\n",
       "      <th>1</th>\n",
       "      <td>ABW</td>\n",
       "      <td>country</td>\n",
       "      <td>AGO1</td>\n",
       "      <td>gadm1</td>\n",
       "      <td>38.0</td>\n",
       "    </tr>\n",
       "    <tr>\n",
       "      <th>2</th>\n",
       "      <td>ABW</td>\n",
       "      <td>country</td>\n",
       "      <td>AGO10</td>\n",
       "      <td>gadm1</td>\n",
       "      <td>34.0</td>\n",
       "    </tr>\n",
       "    <tr>\n",
       "      <th>3</th>\n",
       "      <td>ABW</td>\n",
       "      <td>country</td>\n",
       "      <td>AGO11</td>\n",
       "      <td>gadm1</td>\n",
       "      <td>32.0</td>\n",
       "    </tr>\n",
       "    <tr>\n",
       "      <th>4</th>\n",
       "      <td>ABW</td>\n",
       "      <td>country</td>\n",
       "      <td>AGO12</td>\n",
       "      <td>gadm1</td>\n",
       "      <td>23.0</td>\n",
       "    </tr>\n",
       "    <tr>\n",
       "      <th>5</th>\n",
       "      <td>ABW</td>\n",
       "      <td>country</td>\n",
       "      <td>AGO13</td>\n",
       "      <td>gadm1</td>\n",
       "      <td>37.0</td>\n",
       "    </tr>\n",
       "    <tr>\n",
       "      <th>6</th>\n",
       "      <td>ABW</td>\n",
       "      <td>country</td>\n",
       "      <td>AGO14</td>\n",
       "      <td>gadm1</td>\n",
       "      <td>30.0</td>\n",
       "    </tr>\n",
       "    <tr>\n",
       "      <th>7</th>\n",
       "      <td>ABW</td>\n",
       "      <td>country</td>\n",
       "      <td>AGO15</td>\n",
       "      <td>gadm1</td>\n",
       "      <td>26.0</td>\n",
       "    </tr>\n",
       "    <tr>\n",
       "      <th>8</th>\n",
       "      <td>ABW</td>\n",
       "      <td>country</td>\n",
       "      <td>AGO16</td>\n",
       "      <td>gadm1</td>\n",
       "      <td>43.0</td>\n",
       "    </tr>\n",
       "    <tr>\n",
       "      <th>9</th>\n",
       "      <td>ABW</td>\n",
       "      <td>country</td>\n",
       "      <td>AGO17</td>\n",
       "      <td>gadm1</td>\n",
       "      <td>29.0</td>\n",
       "    </tr>\n",
       "  </tbody>\n",
       "</table>\n",
       "</div>"
      ],
      "text/plain": [
       "  user_loc user_level_type fr_loc fr_level_type  scaled_sci\n",
       "0      ABW         country    ABW       country  11264841.0\n",
       "1      ABW         country   AGO1         gadm1        38.0\n",
       "2      ABW         country  AGO10         gadm1        34.0\n",
       "3      ABW         country  AGO11         gadm1        32.0\n",
       "4      ABW         country  AGO12         gadm1        23.0\n",
       "5      ABW         country  AGO13         gadm1        37.0\n",
       "6      ABW         country  AGO14         gadm1        30.0\n",
       "7      ABW         country  AGO15         gadm1        26.0\n",
       "8      ABW         country  AGO16         gadm1        43.0\n",
       "9      ABW         country  AGO17         gadm1        29.0"
      ]
     },
     "metadata": {},
     "output_type": "display_data"
    }
   ],
   "source": [
    "# check incrocio - quante righe hanno entrambi i capi mappati\n",
    "m_user = df_sci.merge(\n",
    "    df_map.rename(columns={\"location_code\": \"user_loc\", \"level_type\": \"user_level_type\"}),\n",
    "    on=\"user_loc\", how=\"left\"\n",
    ")\n",
    "m_both = m_user.merge(\n",
    "    df_map.rename(columns={\"location_code\": \"fr_loc\", \"level_type\": \"fr_level_type\"}),\n",
    "    on=\"fr_loc\", how=\"left\"\n",
    ")\n",
    "\n",
    "both_known = m_both[\"user_level_type\"].notna() & m_both[\"fr_level_type\"].notna()\n",
    "print(f\"Righe SCI con entrambi (user_loc, fr_loc) mappati: {both_known.sum()}/{len(m_both)} ({both_known.mean():.1%})\")\n",
    "\n",
    "# examples\n",
    "cols_show = [\"user_loc\", \"user_level_type\", \"fr_loc\", \"fr_level_type\", \"scaled_sci\"]\n",
    "display(m_both.loc[both_known, cols_show].head(10))\n"
   ]
  },
  {
   "cell_type": "code",
   "execution_count": 10,
   "id": "9b2ad4a0",
   "metadata": {},
   "outputs": [
    {
     "data": {
      "image/png": "[encoded data removed]",
      "text/plain": [
       "<Figure size 700x400 with 1 Axes>"
      ]
     },
     "metadata": {},
     "output_type": "display_data"
    }
   ],
   "source": [
    "import numpy as np\n",
    "\n",
    "vals = df_sci[\"scaled_sci\"].dropna().astype(float)\n",
    "p99 = np.percentile(vals, 99)\n",
    "\n",
    "plt.figure(figsize=(7,4))\n",
    "plt.hist(vals[vals <= p99], bins=100, rwidth=0.9)\n",
    "plt.title(f\"Distribuzione scaled_sci (zoom fino al 99° percentile: {p99:,.0f})\")\n",
    "plt.xlabel(\"scaled_sci\")\n",
    "plt.ylabel(\"Frequenza\")\n",
    "plt.tight_layout()\n",
    "plt.show()\n"
   ]
  },
  {
   "cell_type": "code",
   "execution_count": 11,
   "id": "691aecea",
   "metadata": {},
   "outputs": [
    {
     "data": {
      "image/png": "[encoded data removed]",
      "text/plain": [
       "<Figure size 600x400 with 1 Axes>"
      ]
     },
     "metadata": {},
     "output_type": "display_data"
    }
   ],
   "source": [
    "# Conta i valori dei tipi\n",
    "counts = df_map[\"level_type\"].value_counts(dropna=False)\n",
    "\n",
    "plt.figure(figsize=(6,4))\n",
    "plt.bar(counts.index.astype(str), counts.values)\n",
    "plt.title(\"Conteggio per level_type (mapping)\")\n",
    "plt.xlabel(\"level_type\")\n",
    "plt.ylabel(\"Conteggio\")\n",
    "plt.tight_layout()\n",
    "plt.show()\n"
   ]
  },
  {
   "cell_type": "code",
   "execution_count": 12,
   "id": "8ba27c2c",
   "metadata": {},
   "outputs": [
    {
     "data": {
      "text/html": [
       "<div>\n",
       "<style scoped>\n",
       "    .dataframe tbody tr th:only-of-type {\n",
       "        vertical-align: middle;\n",
       "    }\n",
       "\n",
       "    .dataframe tbody tr th {\n",
       "        vertical-align: top;\n",
       "    }\n",
       "\n",
       "    .dataframe thead th {\n",
       "        text-align: right;\n",
       "    }\n",
       "</style>\n",
       "<table border=\"1\" class=\"dataframe\">\n",
       "  <thead>\n",
       "    <tr style=\"text-align: right;\">\n",
       "      <th></th>\n",
       "      <th>user_loc</th>\n",
       "      <th>fr_loc</th>\n",
       "      <th>scaled_sci</th>\n",
       "    </tr>\n",
       "  </thead>\n",
       "  <tbody>\n",
       "    <tr>\n",
       "      <th>50344990</th>\n",
       "      <td>USA31005</td>\n",
       "      <td>USA31005</td>\n",
       "      <td>1.000000e+09</td>\n",
       "    </tr>\n",
       "    <tr>\n",
       "      <th>50153230</th>\n",
       "      <td>USA30069</td>\n",
       "      <td>USA30069</td>\n",
       "      <td>9.082725e+08</td>\n",
       "    </tr>\n",
       "    <tr>\n",
       "      <th>50009410</th>\n",
       "      <td>USA30033</td>\n",
       "      <td>USA30033</td>\n",
       "      <td>6.052468e+08</td>\n",
       "    </tr>\n",
       "    <tr>\n",
       "      <th>50688560</th>\n",
       "      <td>USA31091</td>\n",
       "      <td>USA31091</td>\n",
       "      <td>5.827890e+08</td>\n",
       "    </tr>\n",
       "    <tr>\n",
       "      <th>50736500</th>\n",
       "      <td>USA31103</td>\n",
       "      <td>USA31103</td>\n",
       "      <td>5.596415e+08</td>\n",
       "    </tr>\n",
       "    <tr>\n",
       "      <th>57887550</th>\n",
       "      <td>USA48155</td>\n",
       "      <td>USA48155</td>\n",
       "      <td>5.563044e+08</td>\n",
       "    </tr>\n",
       "    <tr>\n",
       "      <th>58319010</th>\n",
       "      <td>USA48263</td>\n",
       "      <td>USA48263</td>\n",
       "      <td>5.518134e+08</td>\n",
       "    </tr>\n",
       "    <tr>\n",
       "      <th>50313030</th>\n",
       "      <td>USA30109</td>\n",
       "      <td>USA30109</td>\n",
       "      <td>5.423879e+08</td>\n",
       "    </tr>\n",
       "    <tr>\n",
       "      <th>56225630</th>\n",
       "      <td>USA46063</td>\n",
       "      <td>USA46063</td>\n",
       "      <td>5.241536e+08</td>\n",
       "    </tr>\n",
       "    <tr>\n",
       "      <th>50624640</th>\n",
       "      <td>USA31075</td>\n",
       "      <td>USA31075</td>\n",
       "      <td>4.839074e+08</td>\n",
       "    </tr>\n",
       "  </tbody>\n",
       "</table>\n",
       "</div>"
      ],
      "text/plain": [
       "          user_loc    fr_loc    scaled_sci\n",
       "50344990  USA31005  USA31005  1.000000e+09\n",
       "50153230  USA30069  USA30069  9.082725e+08\n",
       "50009410  USA30033  USA30033  6.052468e+08\n",
       "50688560  USA31091  USA31091  5.827890e+08\n",
       "50736500  USA31103  USA31103  5.596415e+08\n",
       "57887550  USA48155  USA48155  5.563044e+08\n",
       "58319010  USA48263  USA48263  5.518134e+08\n",
       "50313030  USA30109  USA30109  5.423879e+08\n",
       "56225630  USA46063  USA46063  5.241536e+08\n",
       "50624640  USA31075  USA31075  4.839074e+08"
      ]
     },
     "metadata": {},
     "output_type": "display_data"
    }
   ],
   "source": [
    "# top 10 coppie per SCI (sanity check) ---\n",
    "top_pairs = df_sci.sort_values(\"scaled_sci\", ascending=False).head(10)\n",
    "display(top_pairs)\n"
   ]
  },
  {
   "cell_type": "code",
   "execution_count": null,
   "id": "3a6805a2",
   "metadata": {},
   "outputs": [],
   "source": []
  }
 ],
 "metadata": {
  "kernelspec": {
   "display_name": "torch_env",
   "language": "python",
   "name": "python3"
  },
  "language_info": {
   "codemirror_mode": {
    "name": "ipython",
    "version": 3
   },
   "file_extension": ".py",
   "mimetype": "text/x-python",
   "name": "python",
   "nbconvert_exporter": "python",
   "pygments_lexer": "ipython3",
   "version": "3.10.18"
  }
 },
 "nbformat": 4,
 "nbformat_minor": 5
}
